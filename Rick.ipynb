{
 "cells": [
  {
   "cell_type": "code",
   "execution_count": null,
   "metadata": {
    "collapsed": false
   },
   "outputs": [
    {
     "name": "stdout",
     "output_type": "stream",
     "text": [
      "Summer is here\n",
      "Listening...\n",
      "query: open YouTube\n",
      "Listening...\n"
     ]
    }
   ],
   "source": [
    "import pyttsx3\n",
    "import wikipedia\n",
    "import datetime\n",
    "import os\n",
    "import webbrowser\n",
    "import speech_recognition as sr\n",
    "engine = pyttsx3.init()\n",
    "voices = engine.getProperty('voices')\n",
    "print(\"Summer is here\")\n",
    "engine.setProperty('voice',voices[0].id)\n",
    "def speak(audio):\n",
    "    engine.say(audio)\n",
    "    engine.runAndWait()\n",
    "def wishMe():\n",
    "    hour = int(datetime.datetime.now().hour)\n",
    "    if hour>=0 and hour<3:\n",
    "        speak(\"Sleeping time maybe?Akshay...Goodnight\")\n",
    "    elif hour>3 and hour<6:\n",
    "        speak(\"Good Evening Sir\")\n",
    "    elif hour>=6 and hour<12:\n",
    "        speak(\"Good morning Sir\")\n",
    "    elif hour>12 and hour<16:\n",
    "        speak(\"Good afternoon Sir\")\n",
    "    elif hour>=16 and hour<=19:\n",
    "        speak(\"Good evening Sir\")\n",
    "    else:\n",
    "        speak(\"Night time Sir\")\n",
    "    speak(\"I'm Summer, How may I help you?\")\n",
    "def takeCommand():\n",
    "    #It takes microphone input from the user and returns string output\n",
    "    r = sr.Recognizer()\n",
    "    with sr.Microphone(device_index = None, sample_rate = 16000, chunk_size = 1024) as source:\n",
    "        print(\"Listening...\")\n",
    "        r.pause_threshold = 1\n",
    "        audio = r.listen(source)\n",
    "    try:\n",
    "        speak(\"Recognizing...\")    \n",
    "        query = r.recognize_google(audio, language='en-GB')\n",
    "        print(\"query:\",query)\n",
    "\n",
    "    except Exception as e:\n",
    "        # print(e)    \n",
    "        speak(\"Say that again please...\")  \n",
    "        return \"None\"\n",
    "    return query\n",
    "   \n",
    "if __name__ == \"__main__\":\n",
    "    wishMe()\n",
    "    for i in range(5):\n",
    "        query = takeCommand().lower()\n",
    "        \n",
    "        if 'wikipedia' in query:\n",
    "            speak('wikipedia')\n",
    "            query = query.replace(\"wikipedia\", \"\")\n",
    "            results = wikipedia.summary(query, sentences = 2)\n",
    "            speak(\"According to wikipedia\")\n",
    "            print(results)\n",
    "            speak(results)\n",
    "        elif 'open youtube' in query:\n",
    "            webbrowser.open(\"www.youtube.com\")\n",
    "        elif 'open facebook' in query:\n",
    "            webbrowser.open(\"www.facebook.com\")\n",
    "        elif 'exit' in query:\n",
    "            exit()"
   ]
  },
  {
   "cell_type": "code",
   "execution_count": 2,
   "metadata": {
    "collapsed": false
   },
   "outputs": [],
   "source": [
    "i=1\n",
    "if i==1:\n",
    "    webbrowser.open(\"www.youtube.com\")"
   ]
  },
  {
   "cell_type": "code",
   "execution_count": null,
   "metadata": {
    "collapsed": true
   },
   "outputs": [],
   "source": []
  }
 ],
 "metadata": {
  "anaconda-cloud": {},
  "kernelspec": {
   "display_name": "Python [default]",
   "language": "python",
   "name": "python3"
  },
  "language_info": {
   "codemirror_mode": {
    "name": "ipython",
    "version": 3
   },
   "file_extension": ".py",
   "mimetype": "text/x-python",
   "name": "python",
   "nbconvert_exporter": "python",
   "pygments_lexer": "ipython3",
   "version": "3.5.4"
  }
 },
 "nbformat": 4,
 "nbformat_minor": 2
}
